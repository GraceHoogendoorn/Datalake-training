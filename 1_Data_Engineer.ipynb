{
 "cells": [
  {
   "cell_type": "markdown",
   "metadata": {
    "id": "SPMMsyxRTcvM"
   },
   "source": [
    "## 1. Data Engineering - Process CSV files into BQ Tables"
   ]
  },
  {
   "cell_type": "markdown",
   "metadata": {
    "id": "1JlWBMwnTcvN"
   },
   "source": [
    "### Create Spark session with BQ connector\n",
    "\n",
    "Create a Spark session"
   ]
  },
  {
   "cell_type": "code",
   "execution_count": 1,
   "metadata": {
    "id": "DwScF-NUTcvN"
   },
   "outputs": [],
   "source": [
    "from pyspark.sql import SparkSession\n",
    "from pyspark.sql.types import FloatType, IntegerType, StructField, StructType\n",
    "\n",
    "from pyspark.sql import SparkSession\n",
    "spark = SparkSession.builder \\\n",
    ".appName('Spark - Data Eng Demo') \\\n",
    ".config('spark.jars', 'gs://spark-lib/bigquery/spark-bigquery-latest.jar') \\\n",
    ".getOrCreate()"
   ]
  },
  {
   "cell_type": "markdown",
   "metadata": {
    "id": "HIDDxoNETcvN"
   },
   "source": [
    "Check the first 1000 bytes of a file on GCS"
   ]
  },
  {
   "cell_type": "code",
   "execution_count": 2,
   "metadata": {
    "id": "QA7qu3xnTcvO",
    "outputId": "a686cec0-97f1-4ec2-fd36-f227d0d32e16"
   },
   "outputs": [
    {
     "name": "stdout",
     "output_type": "stream",
     "text": [
      "==> gs://datalake-vol2-data/dataset/fraud_data.csv <==\n",
      "step,type,amount,nameOrig,oldbalanceOrg,newbalanceOrig,nameDest,oldbalanceDest,newbalanceDest,isFraud,isFlaggedFraud\n",
      "1,PAYMENT,9839.64,C1231006815,170136.0,160296.36,M1979787155,0.0,0.0,0,0\n",
      "1,PAYMENT,1864.28,C1666544295,21249.0,19384.72,M2044282225,0.0,0.0,0,0\n",
      "1,TRANSFER,181.0,C1305486145,181.0,0.0,C553264065,0.0,0.0,1,0\n",
      "1,CASH_OUT,181.0,C840083671,181.0,0.0,C38997010,21182.0,0.0,1,0\n",
      "1,PAYMENT,11668.14,C2048537720,41554.0,29885.86,M1230701703,0.0,0.0,0,0\n",
      "1,PAYMENT,7817.71,C90045638,53860.0,46042.29,M573487274,0.0,0.0,0,0\n",
      "1,PAYMENT,7107.77,C154988899,183195.0,176087.23,M408069119,0.0,0.0,0,0\n",
      "1,PAYMENT,7861.64,C1912850431,176087.23,168225.59,M633326333,0.0,0.0,0,0\n",
      "1,PAYMENT,4024.36,C1265012928,2671.0,0.0,M1176932104,0.0,0.0,0,0\n",
      "1,DEBIT,5337.77,C712410124,41720.0,36382.23,C195600860,41898.0,40348.79,0,0\n",
      "1,DEBIT,9644.94,C1900366749,4465.0,0.0,C997608398,10845.0,157982.12,0,0\n",
      "1,PAYMENT,3099.97,C249177573,20771.0,17671.03,M2096539129,0.0,0.0,0,0\n",
      "1,PAYMENT,2560.74,C1648232591,5070.0,2509.26,M9"
     ]
    }
   ],
   "source": [
    "!gsutil cat -h -r 0-1000 gs://datalake-vol2-data/dataset/fraud_data.csv"
   ]
  },
  {
   "cell_type": "code",
   "execution_count": 3,
   "metadata": {},
   "outputs": [],
   "source": [
    "path_to_train_csv = \"gs://datalake-vol2-data/dataset/transaction_data_train.csv\""
   ]
  },
  {
   "cell_type": "markdown",
   "metadata": {
    "id": "ZNs5PNQsTcvT"
   },
   "source": [
    "### Get Spark application ID \n",
    "\n",
    "This is useful to easily fine application in the Spark History UI"
   ]
  },
  {
   "cell_type": "code",
   "execution_count": 4,
   "metadata": {
    "id": "DVodmkJzTcvU",
    "outputId": "80d2f3b6-ba66-4bc2-9b7e-b1a0d62c0c96"
   },
   "outputs": [
    {
     "data": {
      "text/plain": [
       "'application_1610100240292_0036'"
      ]
     },
     "execution_count": 4,
     "metadata": {},
     "output_type": "execute_result"
    }
   ],
   "source": [
    "spark.conf.get(\"spark.app.id\")"
   ]
  },
  {
   "cell_type": "markdown",
   "metadata": {
    "id": "cZNGS52lTcvW"
   },
   "source": [
    "Load the CSV file into a Spark Dataframe"
   ]
  },
  {
   "cell_type": "code",
   "execution_count": 5,
   "metadata": {
    "id": "kgsapsiMTcvW",
    "outputId": "8f387f4f-9444-406b-d96f-4ba98a0fa606"
   },
   "outputs": [],
   "source": [
    "df_transaction_data_from_csv = spark \\\n",
    ".read \\\n",
    ".option(\"inferSchema\" , \"true\") \\\n",
    ".option(\"header\" , \"true\") \\\n",
    ".csv(path_to_train_csv)"
   ]
  },
  {
   "cell_type": "code",
   "execution_count": 6,
   "metadata": {},
   "outputs": [
    {
     "name": "stdout",
     "output_type": "stream",
     "text": [
      "root\n",
      " |-- step: integer (nullable = true)\n",
      " |-- type: string (nullable = true)\n",
      " |-- amount: double (nullable = true)\n",
      " |-- oldbalanceOrg: double (nullable = true)\n",
      " |-- newbalanceOrig: double (nullable = true)\n",
      " |-- oldbalanceDest: double (nullable = true)\n",
      " |-- newbalanceDest: double (nullable = true)\n",
      " |-- isFraud: integer (nullable = true)\n",
      " |-- transactionID: string (nullable = true)\n",
      "\n"
     ]
    }
   ],
   "source": [
    "df_transaction_data_from_csv.printSchema()"
   ]
  },
  {
   "cell_type": "markdown",
   "metadata": {},
   "source": [
    "### Create the BQ dataset and table"
   ]
  },
  {
   "cell_type": "markdown",
   "metadata": {},
   "source": [
    "Create the BQ schema from the spark dataframe \n",
    "Reference for converting data types: https://github.com/GoogleCloudDataproc/spark-bigquery-connector#data-types"
   ]
  },
  {
   "cell_type": "code",
   "execution_count": 7,
   "metadata": {},
   "outputs": [
    {
     "data": {
      "text/plain": [
       "'step:int64,type:string,amount:float64,oldbalanceOrg:float64,newbalanceOrig:float64,oldbalanceDest:float64,newbalanceDest:float64,isFraud:int64,transactionID:string'"
      ]
     },
     "execution_count": 7,
     "metadata": {},
     "output_type": "execute_result"
    }
   ],
   "source": [
    "# spark to bq datatypes -> https://github.com/GoogleCloudDataproc/spark-bigquery-connector#data-types\n",
    "schema_inline = df_transaction_data_from_csv.schema.simpleString().replace('struct<', '').replace('>', '').replace('int', 'int64').replace('double', 'float64')\n",
    "schema_inline"
   ]
  },
  {
   "cell_type": "code",
   "execution_count": 8,
   "metadata": {
    "id": "qgXc3-gqTcvX",
    "outputId": "2ecde384-66b6-4056-cff3-c5be5ede0b38"
   },
   "outputs": [
    {
     "name": "stdout",
     "output_type": "stream",
     "text": [
      "+----+-----+-------+-------------+--------------+--------------+--------------+-------+--------------------+\n",
      "|step| type| amount|oldbalanceOrg|newbalanceOrig|oldbalanceDest|newbalanceDest|isFraud|       transactionID|\n",
      "+----+-----+-------+-------------+--------------+--------------+--------------+-------+--------------------+\n",
      "| 192|DEBIT|2129.14|     254447.0|     252317.86|     441844.59|     443973.73|      0|97b164f8-7ff8-4a7...|\n",
      "| 395|DEBIT|9910.44|      24040.0|      14129.56|    2368599.34|    2378509.78|      0|80828313-2a6c-4ea...|\n",
      "| 589|DEBIT|2984.18|      12732.0|       9747.82|     906466.61|     909450.79|      0|831843e6-7611-4a4...|\n",
      "| 266|DEBIT|1747.32|     113637.0|     111889.68|       71894.4|      73641.72|      0|84449213-8dbb-4b1...|\n",
      "| 241|DEBIT|   64.6|       1458.0|        1393.4|    3810660.18|    3810724.78|      0|14162c62-0eaf-40c...|\n",
      "+----+-----+-------+-------------+--------------+--------------+--------------+-------+--------------------+\n",
      "only showing top 5 rows\n",
      "\n"
     ]
    }
   ],
   "source": [
    "df_transaction_data_from_csv.show(5)"
   ]
  },
  {
   "cell_type": "markdown",
   "metadata": {
    "id": "BBBHz2WqTcvX"
   },
   "source": [
    "Run transformations on the data"
   ]
  },
  {
   "cell_type": "code",
   "execution_count": null,
   "metadata": {
    "id": "6z2Ii2j5TcvX"
   },
   "outputs": [],
   "source": [
    "## Any transformations on your data can be done at this point"
   ]
  },
  {
   "cell_type": "code",
   "execution_count": 9,
   "metadata": {},
   "outputs": [
    {
     "data": {
      "text/plain": [
       "'datalake_vol2_test'"
      ]
     },
     "execution_count": 9,
     "metadata": {},
     "output_type": "execute_result"
    }
   ],
   "source": [
    "# create the name your BQ dataset\n",
    "project_id = !gcloud config list --format 'value(core.project)' 2>/dev/null \n",
    "dataset_name = project_id[0] + '-raw'\n",
    "dataset_name = dataset_name.replace('-', '_')\n",
    "dataset_name"
   ]
  },
  {
   "cell_type": "markdown",
   "metadata": {},
   "source": [
    "Create the BQ dataset by specifying the location"
   ]
  },
  {
   "cell_type": "code",
   "execution_count": 10,
   "metadata": {},
   "outputs": [
    {
     "name": "stdout",
     "output_type": "stream",
     "text": [
      "Dataset 'datalake-vol2:datalake_vol2_test' successfully created.\n"
     ]
    }
   ],
   "source": [
    "!bq --location=europe-west3 mk -d \\\n",
    "{dataset_name}"
   ]
  },
  {
   "cell_type": "code",
   "execution_count": 11,
   "metadata": {},
   "outputs": [
    {
     "data": {
      "text/plain": [
       "'datalake_vol2_test.transaction_data_train'"
      ]
     },
     "execution_count": 11,
     "metadata": {},
     "output_type": "execute_result"
    }
   ],
   "source": [
    "# create path to new table for creation\n",
    "bq_table_name = 'transaction_data_train'\n",
    "bq_table_path= dataset_name + '.' + bq_table_name\n",
    "bq_table_path"
   ]
  },
  {
   "cell_type": "code",
   "execution_count": 12,
   "metadata": {},
   "outputs": [
    {
     "name": "stdout",
     "output_type": "stream",
     "text": [
      "Table 'datalake-vol2:datalake_vol2_test.transaction_data_train' successfully created.\n"
     ]
    }
   ],
   "source": [
    "!bq mk --table \\\n",
    "{bq_table_path} \\\n",
    "{schema_inline}"
   ]
  },
  {
   "cell_type": "markdown",
   "metadata": {
    "id": "LIjPZm4gTcvf"
   },
   "source": [
    "#### Check that table was created"
   ]
  },
  {
   "cell_type": "code",
   "execution_count": 14,
   "metadata": {
    "id": "YA-s2gntTcvf",
    "outputId": "ea505e9f-d857-4162-fffa-1bdf95293e66"
   },
   "outputs": [],
   "source": [
    "table = project_id[0] + \":\" + bq_table_path\n",
    "df_transaction_data_from_bq = spark.read \\\n",
    ".format(\"bigquery\") \\\n",
    ".option(\"table\", table) \\\n",
    ".load()"
   ]
  },
  {
   "cell_type": "code",
   "execution_count": 15,
   "metadata": {},
   "outputs": [
    {
     "name": "stdout",
     "output_type": "stream",
     "text": [
      "root\n",
      " |-- step: long (nullable = true)\n",
      " |-- type: string (nullable = true)\n",
      " |-- amount: double (nullable = true)\n",
      " |-- oldbalanceOrg: double (nullable = true)\n",
      " |-- newbalanceOrig: double (nullable = true)\n",
      " |-- oldbalanceDest: double (nullable = true)\n",
      " |-- newbalanceDest: double (nullable = true)\n",
      " |-- isFraud: long (nullable = true)\n",
      " |-- transactionID: string (nullable = true)\n",
      "\n"
     ]
    }
   ],
   "source": [
    "df_transaction_data_from_bq.printSchema()"
   ]
  },
  {
   "cell_type": "code",
   "execution_count": 16,
   "metadata": {},
   "outputs": [
    {
     "name": "stdout",
     "output_type": "stream",
     "text": [
      "+----+----+------+-------------+--------------+--------------+--------------+-------+-------------+\n",
      "|step|type|amount|oldbalanceOrg|newbalanceOrig|oldbalanceDest|newbalanceDest|isFraud|transactionID|\n",
      "+----+----+------+-------------+--------------+--------------+--------------+-------+-------------+\n",
      "+----+----+------+-------------+--------------+--------------+--------------+-------+-------------+\n",
      "\n"
     ]
    }
   ],
   "source": [
    "df_transaction_data_from_bq.show()"
   ]
  },
  {
   "cell_type": "markdown",
   "metadata": {},
   "source": [
    "Write spark dataframe to BQ table"
   ]
  },
  {
   "cell_type": "code",
   "execution_count": 17,
   "metadata": {},
   "outputs": [
    {
     "data": {
      "text/plain": [
       "'datalake-vol2-data'"
      ]
     },
     "execution_count": 17,
     "metadata": {},
     "output_type": "execute_result"
    }
   ],
   "source": [
    "# create temp GCS bucket for writing spark df to bq table\n",
    "gcs_bucket = project_id[0] + '-data'\n",
    "gcs_bucket"
   ]
  },
  {
   "cell_type": "code",
   "execution_count": 18,
   "metadata": {
    "id": "FQ9TGCYiTcvf",
    "outputId": "ad0e5d3b-b06e-4d76-b619-9b7eb971dd2b"
   },
   "outputs": [],
   "source": [
    "df_transaction_data_from_csv.write \\\n",
    ".format(\"bigquery\") \\\n",
    ".option(\"table\", table) \\\n",
    ".option(\"temporaryGcsBucket\", gcs_bucket) \\\n",
    ".mode('overwrite') \\\n",
    ".save()"
   ]
  },
  {
   "cell_type": "markdown",
   "metadata": {},
   "source": [
    "Check if the BQ table is populated "
   ]
  },
  {
   "cell_type": "code",
   "execution_count": 21,
   "metadata": {},
   "outputs": [],
   "source": [
    "df_transaction_data_from_bq = spark.read \\\n",
    ".format(\"bigquery\") \\\n",
    ".option(\"table\", table) \\\n",
    ".load()"
   ]
  },
  {
   "cell_type": "code",
   "execution_count": 23,
   "metadata": {},
   "outputs": [
    {
     "name": "stdout",
     "output_type": "stream",
     "text": [
      "+----+--------+---------+-------------+--------------+--------------+--------------+-------+--------------------+\n",
      "|step|    type|   amount|oldbalanceOrg|newbalanceOrig|oldbalanceDest|newbalanceDest|isFraud|       transactionID|\n",
      "+----+--------+---------+-------------+--------------+--------------+--------------+-------+--------------------+\n",
      "| 404|CASH_OUT| 61985.03|      21261.0|           0.0|     2066461.5|    2128446.53|      0|19b86479-2c41-4cc...|\n",
      "| 404|CASH_OUT| 66737.46|      21416.0|           0.0|      13733.51|      80470.96|      0|9675a1ec-4ec2-494...|\n",
      "| 404|CASH_OUT|175684.96|     289863.0|     114178.04|    6499819.75|    6675504.71|      0|a26359df-18a6-40a...|\n",
      "| 404|CASH_OUT|203996.28|       1311.0|           0.0|     400765.13|      604761.4|      0|aa83bb49-23ab-41b...|\n",
      "| 404|CASH_OUT|162690.16|     107933.0|           0.0|    1099970.68|    1262660.85|      0|c0ddc848-5126-4a4...|\n",
      "| 404|CASH_OUT|   4560.2|     225004.0|      220443.8|    2133814.55|    2138374.74|      0|ec3bc1d7-a3cc-44c...|\n",
      "| 161|CASH_OUT| 25445.66|      30732.0|       5286.34|    4651777.07|    4677222.73|      0|935f3e61-dd9e-458...|\n",
      "| 161|CASH_OUT|304668.32|     147368.0|           0.0|     584455.61|     889123.92|      0|ef51e857-458b-469...|\n",
      "| 161|CASH_OUT|449539.22|      16475.0|           0.0|     539883.57|     989422.79|      0|e81c3716-3ecb-4ee...|\n",
      "| 161|CASH_OUT| 64101.75|     100078.0|      35976.25|     1107380.0|    1171481.74|      0|231be5d8-6192-48d...|\n",
      "| 161|CASH_OUT|148072.88|        905.0|           0.0|     3429956.1|    3578028.98|      0|b0223dfe-9096-4db...|\n",
      "| 161|CASH_OUT| 55269.99|       2440.0|           0.0|     318846.42|     374116.41|      0|09450cf9-a719-456...|\n",
      "| 161|CASH_OUT| 376217.0|    182595.32|           0.0|    2970190.28|    3346407.28|      0|c71fadfc-f94a-4fb...|\n",
      "| 161|CASH_OUT|150196.46|      27819.0|           0.0|      35292.09|     185488.55|      0|939d2471-fffb-4bc...|\n",
      "| 161|CASH_OUT|298467.98|       2154.0|           0.0|    1427401.27|    1725869.25|      0|d8e2ca68-8afa-424...|\n",
      "| 161|CASH_OUT|  3218.35|     18010.28|      14791.93|     837086.41|     840304.76|      0|516ff3ac-f262-4ae...|\n",
      "| 161|CASH_OUT|312354.14|      50359.0|           0.0|     102428.25|      414782.4|      0|e39ea03f-7aab-406...|\n",
      "| 161|CASH_OUT|175085.49|        374.0|           0.0|    3859622.12|    4034707.61|      0|cf9d601e-ce7c-406...|\n",
      "| 161|CASH_OUT|122652.28|    328310.27|     205657.99|     874962.01|     997614.28|      0|764804da-e4cd-440...|\n",
      "| 161|CASH_OUT|153589.28|       1106.0|           0.0|    1397776.93|    1579902.28|      0|f2f65ebe-b04a-444...|\n",
      "+----+--------+---------+-------------+--------------+--------------+--------------+-------+--------------------+\n",
      "only showing top 20 rows\n",
      "\n"
     ]
    }
   ],
   "source": [
    "df_transaction_data_from_bq.show()"
   ]
  },
  {
   "cell_type": "markdown",
   "metadata": {
    "id": "JGcW4WpJTcvg"
   },
   "source": [
    "### Compute statistics for columns in table"
   ]
  },
  {
   "cell_type": "code",
   "execution_count": 33,
   "metadata": {
    "id": "6VxEI9zKTcvg",
    "outputId": "a62ea153-5d4e-42b8-eace-e511c6d392ac"
   },
   "outputs": [
    {
     "name": "stdout",
     "output_type": "stream",
     "text": [
      "+-------+------------------+--------+------------------+-----------------+-----------------+------------------+------------------+--------------------+--------------------+\n",
      "|summary|              step|    type|            amount|    oldbalanceOrg|   newbalanceOrig|    oldbalanceDest|    newbalanceDest|             isFraud|       transactionID|\n",
      "+-------+------------------+--------+------------------+-----------------+-----------------+------------------+------------------+--------------------+--------------------+\n",
      "|  count|           5090692| 5090692|           5090692|          5090692|          5090692|           5090692|           5090692|             5090692|             5090692|\n",
      "|   mean|243.43184659374404|    null|179890.20229514304|834053.2275695637|855323.9460816883|1101305.5336388673|1225649.3290917806|0.001279786716619273|                null|\n",
      "| stddev|142.32545787222878|    null| 603890.0044859855|2888545.884476551|2924500.744522634|3410172.1426297785|  3684651.53400185| 0.03575121135926827|                null|\n",
      "|    min|                 1| CASH_IN|               0.0|              0.0|              0.0|               0.0|               0.0|                   0|00000428-25b6-409...|\n",
      "|    max|               743|TRANSFER|     9.244551664E7|    5.731625505E7|    4.731625505E7|    3.5601588935E8|    3.5617927892E8|                   1|fffff8b5-3785-459...|\n",
      "+-------+------------------+--------+------------------+-----------------+-----------------+------------------+------------------+--------------------+--------------------+\n",
      "\n"
     ]
    }
   ],
   "source": [
    "df_transaction_data_from_bq.describe().show()"
   ]
  }
 ],
 "metadata": {
  "colab": {
   "collapsed_sections": [
    "ZNs5PNQsTcvT",
    "JGcW4WpJTcvg"
   ],
   "name": "test-1.ipynb",
   "provenance": []
  },
  "kernelspec": {
   "display_name": "PySpark",
   "language": "python",
   "name": "pyspark"
  },
  "language_info": {
   "codemirror_mode": {
    "name": "ipython",
    "version": 3
   },
   "file_extension": ".py",
   "mimetype": "text/x-python",
   "name": "python",
   "nbconvert_exporter": "python",
   "pygments_lexer": "ipython3",
   "version": "3.8.6"
  }
 },
 "nbformat": 4,
 "nbformat_minor": 4
}
