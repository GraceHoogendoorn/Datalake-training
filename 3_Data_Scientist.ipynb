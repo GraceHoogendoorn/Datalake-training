{
 "cells": [
  {
   "cell_type": "markdown",
   "metadata": {
    "id": "J3TwAK_8Wll0"
   },
   "source": [
    "## 3. Data Scientist - Create ML models with Spark"
   ]
  },
  {
   "cell_type": "code",
   "execution_count": 1,
   "metadata": {
    "id": "rwCbd6SqWll0"
   },
   "outputs": [],
   "source": [
    "from pyspark.ml import Pipeline\n",
    "from pyspark.ml.classification import DecisionTreeClassifier, LogisticRegression\n",
    "from pyspark.ml.feature import OneHotEncoder, StringIndexer, VectorAssembler\n",
    "from pyspark.ml.evaluation import MulticlassClassificationEvaluator\n",
    "import numpy as np\n",
    "from sklearn.metrics import accuracy_score, precision_score, recall_score, roc_auc_score, f1_score"
   ]
  },
  {
   "cell_type": "code",
   "execution_count": 2,
   "metadata": {},
   "outputs": [],
   "source": [
    "from pyspark.sql import SparkSession\n",
    "spark = SparkSession.builder \\\n",
    ".appName('Spark - Data Scientist Demo') \\\n",
    ".config('spark.jars', '/usr/lib/spark/jars/spark-bigquery-latest.jar') \\\n",
    ".config(\"spark.jars.packages\", \"com.google.cloud.spark:spark-bigquery-with-dependencies_2.12:0.18.0\") \\\n",
    ".getOrCreate()"
   ]
  },
  {
   "cell_type": "code",
   "execution_count": 3,
   "metadata": {},
   "outputs": [
    {
     "data": {
      "text/plain": [
       "'version 2.12.12'"
      ]
     },
     "execution_count": 3,
     "metadata": {},
     "output_type": "execute_result"
    }
   ],
   "source": [
    "spark.conf.get(\"spark.app.id\")\n",
    "spark.sparkContext._jvm.scala.util.Properties.versionString()"
   ]
  },
  {
   "cell_type": "markdown",
   "metadata": {
    "id": "LJwl3BLZWll0"
   },
   "source": [
    "Create a Spark DataFrame from bq table"
   ]
  },
  {
   "cell_type": "code",
   "execution_count": 7,
   "metadata": {},
   "outputs": [],
   "source": [
    "table = \"datalake-vol2:datalake_vol2_raw.transaction_data_train\"\n",
    "df_transaction_data_train = spark.read \\\n",
    ".format(\"bigquery\") \\\n",
    ".option(\"table\", table) \\\n",
    ".load()"
   ]
  },
  {
   "cell_type": "code",
   "execution_count": 8,
   "metadata": {},
   "outputs": [],
   "source": [
    "view_name = \"bank_transaction_view\"\n",
    "df_transaction_data_train.createOrReplaceTempView(view_name)"
   ]
  },
  {
   "cell_type": "code",
   "execution_count": 9,
   "metadata": {},
   "outputs": [],
   "source": [
    "data = spark.sql(\"\"\"\n",
    "SELECT * \n",
    "FROM bank_transaction_view\n",
    "\"\"\")"
   ]
  },
  {
   "cell_type": "code",
   "execution_count": 10,
   "metadata": {},
   "outputs": [
    {
     "data": {
      "text/plain": [
       "DataFrame[step: bigint, type: string, amount: double, oldbalanceOrg: double, newbalanceOrig: double, oldbalanceDest: double, newbalanceDest: double, isFraud: bigint]"
      ]
     },
     "execution_count": 10,
     "metadata": {},
     "output_type": "execute_result"
    }
   ],
   "source": [
    "data = data.drop('transactionID')\n",
    "data.cache()"
   ]
  },
  {
   "cell_type": "markdown",
   "metadata": {},
   "source": [
    "Create a pyspark ml pipeline to process the data and train a Decision Tree classifier "
   ]
  },
  {
   "cell_type": "code",
   "execution_count": null,
   "metadata": {},
   "outputs": [],
   "source": [
    "from pyspark.ml.feature import OneHotEncoder, StringIndexer\n",
    "from pyspark.ml.classification import RandomForestClassifier, DecisionTreeClassifier\n",
    "\n",
    "\n",
    "categorical_cols = [field for (field, data_type) in data.dtypes \n",
    "                    if ((data_type == \"string\") & (field != 'isFraud'))]\n",
    "\n",
    "index_output_cols = [x + \"_Index\" for x in categorical_cols]\n",
    "\n",
    "ohe_output_cols = [x + \"_OHE\" for x in categorical_cols]\n",
    "\n",
    "categorical_string_indexer = StringIndexer(\n",
    "    inputCols=categorical_cols,\n",
    "    outputCols=index_output_cols,\n",
    "    handleInvalid=\"skip\").fit(data)\n",
    "\n",
    "ohe_encoder = OneHotEncoder(\n",
    "    inputCols=index_output_cols,\n",
    "    outputCols=ohe_output_cols)\n",
    "\n",
    "numeric_cols = [field for (field, data_type) in data.dtypes \n",
    "                if (((data_type == \"double\") | (data_type == \"int\") | (data_type == \"bigint\"))\n",
    "                  & (field != 'isFraud'))]\n",
    "\n",
    "assembler_inputs = ohe_output_cols + numeric_cols\n",
    "\n",
    "vec_assembler = VectorAssembler(\n",
    "    inputCols=assembler_inputs,\n",
    "    outputCol=\"features\")\n",
    "\n",
    "dtc = DecisionTreeClassifier(labelCol=\"isFraud\", featuresCol=\"features\", maxDepth=3, maxBins=12)\n",
    "\n",
    "\n",
    "pipeline = Pipeline(stages=[\n",
    "    categorical_string_indexer,\n",
    "    ohe_encoder,\n",
    "    vec_assembler,\n",
    "    dtc \n",
    "])\n"
   ]
  },
  {
   "cell_type": "markdown",
   "metadata": {},
   "source": [
    "Evaluate the model on a hold out set "
   ]
  },
  {
   "cell_type": "code",
   "execution_count": 11,
   "metadata": {},
   "outputs": [],
   "source": [
    "(train_data, test_data) = data.randomSplit([0.9, 0.1], seed=42)"
   ]
  },
  {
   "cell_type": "code",
   "execution_count": 12,
   "metadata": {},
   "outputs": [
    {
     "data": {
      "text/plain": [
       "DataFrame[step: bigint, type: string, amount: double, oldbalanceOrg: double, newbalanceOrig: double, oldbalanceDest: double, newbalanceDest: double, isFraud: bigint]"
      ]
     },
     "execution_count": 12,
     "metadata": {},
     "output_type": "execute_result"
    }
   ],
   "source": [
    "train_data.cache()\n",
    "test_data.cache()"
   ]
  },
  {
   "cell_type": "code",
   "execution_count": null,
   "metadata": {},
   "outputs": [],
   "source": [
    "model = pipeline.fit(train_data)"
   ]
  },
  {
   "cell_type": "code",
   "execution_count": null,
   "metadata": {},
   "outputs": [],
   "source": [
    "predictions = model.transform(test_data)"
   ]
  },
  {
   "cell_type": "code",
   "execution_count": null,
   "metadata": {},
   "outputs": [],
   "source": [
    "predictions.show(5)"
   ]
  },
  {
   "cell_type": "code",
   "execution_count": null,
   "metadata": {},
   "outputs": [],
   "source": [
    "# Select example rows to display.\n",
    "predictions.select(\"prediction\", \"isFraud\").show(5)"
   ]
  },
  {
   "cell_type": "markdown",
   "metadata": {},
   "source": [
    "### Evaluate the model"
   ]
  },
  {
   "cell_type": "code",
   "execution_count": null,
   "metadata": {},
   "outputs": [],
   "source": [
    "from pyspark.ml.evaluation import BinaryClassificationEvaluator\n",
    "\n",
    "binaryEvaluator = BinaryClassificationEvaluator(labelCol=\"isFraud\")\n",
    "\n",
    "auc = binaryEvaluator.evaluate(predictions, {binaryEvaluator.metricName: \"areaUnderROC\"})\n",
    "print(auc)"
   ]
  },
  {
   "cell_type": "code",
   "execution_count": null,
   "metadata": {},
   "outputs": [],
   "source": [
    "tests_np = np.array((predictions.select(\"isFraud\",\"prediction\").collect()))\n",
    "tests_np"
   ]
  },
  {
   "cell_type": "code",
   "execution_count": null,
   "metadata": {},
   "outputs": [],
   "source": [
    "tests_np = np.array((predictions.select(\"isFraud\",\"prediction\").collect()))\n",
    "\n",
    "np_acc = accuracy_score(tests_np[:,0], tests_np[:,1])\n",
    "np_f1 = f1_score(tests_np[:,0], tests_np[:,1])\n",
    "np_precision = precision_score(tests_np[:,0], tests_np[:,1])\n",
    "np_recall = recall_score(tests_np[:,0], tests_np[:,1])\n",
    "np_auc = roc_auc_score(tests_np[:,0], tests_np[:,1])\n",
    "\n",
    "print(\"f1:\", np_f1)\n",
    "print(\"precision:\", np_precision)\n",
    "print(\"recall:\", np_recall)"
   ]
  },
  {
   "cell_type": "code",
   "execution_count": null,
   "metadata": {},
   "outputs": [],
   "source": [
    "# import package that will generate the confusion matrix scores\n",
    "from sklearn.metrics import confusion_matrix\n",
    "# import packages that will help display the scores\n",
    "import pandas as pd\n",
    "\n",
    "confusion_matrix_scores = confusion_matrix(tests_np[:,0], \n",
    "                                           tests_np[:,1], \n",
    "                                           labels=[1, 0])\n",
    "\n",
    "# display scores as a heatmap\n",
    "df = pd.DataFrame(confusion_matrix_scores, \n",
    "                  columns = [\"Predicted True\", \"Predicted Not True\"],\n",
    "                  index = [\"Actually True\", \"Actually Not True\"])\n",
    "\n",
    "\n",
    "df.head()"
   ]
  },
  {
   "cell_type": "markdown",
   "metadata": {
    "id": "UJylDTrvWll6"
   },
   "source": [
    "### Save and load model_pipeline"
   ]
  },
  {
   "cell_type": "code",
   "execution_count": 4,
   "metadata": {
    "id": "Yyu-e73EWll6"
   },
   "outputs": [],
   "source": [
    "from pyspark.ml import Pipeline, PipelineModel\n",
    "\n",
    "model_path = 'gs://datalake-vol2-data/'\n",
    "\n",
    "model.write().overwrite().save(model_path)"
   ]
  },
  {
   "cell_type": "code",
   "execution_count": 5,
   "metadata": {
    "id": "tOsd-Q_CWll6"
   },
   "outputs": [],
   "source": [
    "loaded_pipeline_model = PipelineModel.load(model_path)"
   ]
  },
  {
   "cell_type": "code",
   "execution_count": 13,
   "metadata": {
    "id": "RycT75znWll6",
    "outputId": "dbeb5ae8-9713-40a3-86aa-11ed3c6ab8b1"
   },
   "outputs": [
    {
     "name": "stdout",
     "output_type": "stream",
     "text": [
      "+----+-------+--------+-------------+--------------+--------------+--------------+-------+----------+-------------+--------------------+------------------+--------------------+----------+\n",
      "|step|   type|  amount|oldbalanceOrg|newbalanceOrig|oldbalanceDest|newbalanceDest|isFraud|type_Index|     type_OHE|            features|     rawPrediction|         probability|prediction|\n",
      "+----+-------+--------+-------------+--------------+--------------+--------------+-------+----------+-------------+--------------------+------------------+--------------------+----------+\n",
      "|   1|CASH_IN| 5763.99|   1276098.29|    1281862.28|      24632.95|      46462.23|      0|       2.0|(4,[2],[1.0])|[0.0,0.0,1.0,0.0,...|[4195304.0,2525.0]|[0.99939849860487...|       0.0|\n",
      "|   1|CASH_IN| 6287.28|   4817829.42|    4824116.71|       11274.0|           0.0|      0|       2.0|(4,[2],[1.0])|[0.0,0.0,1.0,0.0,...|[4195304.0,2525.0]|[0.99939849860487...|       0.0|\n",
      "|   1|CASH_IN|27363.26|   2311674.95|    2339038.21| 1.916920493E7|  1.81226287E7|      0|       2.0|(4,[2],[1.0])|[0.0,0.0,1.0,0.0,...|[4195304.0,2525.0]|[0.99939849860487...|       0.0|\n",
      "|   1|CASH_IN|31657.28|   2600728.62|    2632385.91|      39207.31|       7550.03|      0|       2.0|(4,[2],[1.0])|[0.0,0.0,1.0,0.0,...|[4195304.0,2525.0]|[0.99939849860487...|       0.0|\n",
      "|   1|CASH_IN|42672.03|   8177042.78|    8219714.81|     103410.07|      60738.03|      0|       2.0|(4,[2],[1.0])|[0.0,0.0,1.0,0.0,...|[4195304.0,2525.0]|[0.99939849860487...|       0.0|\n",
      "+----+-------+--------+-------------+--------------+--------------+--------------+-------+----------+-------------+--------------------+------------------+--------------------+----------+\n",
      "only showing top 5 rows\n",
      "\n"
     ]
    }
   ],
   "source": [
    "# Make predictions using loaded model\n",
    "\n",
    "tests = loaded_pipeline_model.transform(test_data)\n",
    "\n",
    "tests.show(5)"
   ]
  },
  {
   "cell_type": "code",
   "execution_count": null,
   "metadata": {},
   "outputs": [],
   "source": [
    "bq_table_path = 'datalake_vol2_annotated.transaction_data_test'\n",
    "schema_inline = tests.schema.simpleString().replace('struct<', '').replace('>', '').replace('int', 'int64').replace('double', 'float64').replace('bigint64', 'int64').replace('vector', 'STRING')\n",
    "\n",
    "!bq mk --table \\\n",
    "{bq_table_path} \\\n",
    "{schema_inline}"
   ]
  },
  {
   "cell_type": "code",
   "execution_count": null,
   "metadata": {},
   "outputs": [],
   "source": [
    "tests.write \\\n",
    ".format(\"bigquery\") \\\n",
    ".option(\"table\", 'datalake-vol2:datalake_vol2_annotated.transaction_data_test') \\\n",
    ".option(\"temporaryGcsBucket\", \"datalake-vol2-data\") \\\n",
    ".mode('overwrite') \\\n",
    ".save()"
   ]
  },
  {
   "cell_type": "code",
   "execution_count": null,
   "metadata": {},
   "outputs": [],
   "source": [
    "%%bigquery\n",
    "SELECT * FROM datalake_vol2_annotated.INFORMATION_SCHEMA.TABLES;"
   ]
  },
  {
   "cell_type": "markdown",
   "metadata": {},
   "source": [
    "### Predict Results"
   ]
  },
  {
   "cell_type": "code",
   "execution_count": 14,
   "metadata": {},
   "outputs": [
    {
     "name": "stdout",
     "output_type": "stream",
     "text": [
      "root\n",
      " |-- step: integer (nullable = true)\n",
      " |-- type: string (nullable = true)\n",
      " |-- amount: double (nullable = true)\n",
      " |-- oldbalanceOrg: double (nullable = true)\n",
      " |-- newbalanceOrig: double (nullable = true)\n",
      " |-- oldbalanceDest: double (nullable = true)\n",
      " |-- newbalanceDest: double (nullable = true)\n",
      " |-- isFraud: integer (nullable = true)\n",
      " |-- transactionID: string (nullable = true)\n",
      "\n"
     ]
    }
   ],
   "source": [
    "path_to_predict_csv = \"gs://datalake-vol2-data/dataset/transaction_data_test.csv\"\n",
    "df_transaction_data_predict_from_csv = spark \\\n",
    ".read \\\n",
    ".option(\"inferSchema\" , \"true\") \\\n",
    ".option(\"header\" , \"true\") \\\n",
    ".csv(path_to_predict_csv)\n",
    "df_transaction_data_predict_from_csv.printSchema()"
   ]
  },
  {
   "cell_type": "code",
   "execution_count": 15,
   "metadata": {},
   "outputs": [
    {
     "name": "stdout",
     "output_type": "stream",
     "text": [
      "+----------+-------+\n",
      "|prediction|isFraud|\n",
      "+----------+-------+\n",
      "|       0.0|      0|\n",
      "|       0.0|      0|\n",
      "|       0.0|      0|\n",
      "|       0.0|      0|\n",
      "|       0.0|      0|\n",
      "+----------+-------+\n",
      "only showing top 5 rows\n",
      "\n"
     ]
    }
   ],
   "source": [
    "# Make predictions on test.\n",
    "predictions = loaded_pipeline_model.transform(df_transaction_data_predict_from_csv)\n",
    "\n",
    "# Select example rows to display.\n",
    "predictions.select(\"prediction\", \"isFraud\").show(5)"
   ]
  },
  {
   "cell_type": "code",
   "execution_count": 16,
   "metadata": {},
   "outputs": [
    {
     "name": "stdout",
     "output_type": "stream",
     "text": [
      "+----+-----+-------+-------------+--------------+--------------+--------------+-------+--------------------+----------+---------+--------------------+------------------+--------------------+----------+\n",
      "|step| type| amount|oldbalanceOrg|newbalanceOrig|oldbalanceDest|newbalanceDest|isFraud|       transactionID|type_Index| type_OHE|            features|     rawPrediction|         probability|prediction|\n",
      "+----+-----+-------+-------------+--------------+--------------+--------------+-------+--------------------+----------+---------+--------------------+------------------+--------------------+----------+\n",
      "| 310|DEBIT|3334.31|     102439.0|      99104.69|     962290.61|     965624.92|      0|818ca43a-9ac9-484...|       4.0|(4,[],[])|[0.0,0.0,0.0,0.0,...|[4195304.0,2525.0]|[0.99939849860487...|       0.0|\n",
      "| 351|DEBIT|5268.56|        468.0|           0.0|    1672373.71|    1677642.27|      0|70948920-5fa6-401...|       4.0|(4,[],[])|(10,[4,5,6,8,9],[...|[4195304.0,2525.0]|[0.99939849860487...|       0.0|\n",
      "| 592|DEBIT| 3016.8|      62038.0|       59021.2|    9669792.89|    9672809.69|      0|c6bbbaf0-55bb-4e9...|       4.0|(4,[],[])|[0.0,0.0,0.0,0.0,...|[4195304.0,2525.0]|[0.99939849860487...|       0.0|\n",
      "| 286|DEBIT|2005.45|     462875.0|     460869.55|     757666.15|      759671.6|      0|a8b178e2-6e70-42f...|       4.0|(4,[],[])|[0.0,0.0,0.0,0.0,...|[4195304.0,2525.0]|[0.99939849860487...|       0.0|\n",
      "| 157|DEBIT|7422.22|      20639.0|      13216.78|    3957547.41|    3964969.63|      0|9931bfd1-0b59-4d3...|       4.0|(4,[],[])|[0.0,0.0,0.0,0.0,...|[4195304.0,2525.0]|[0.99939849860487...|       0.0|\n",
      "+----+-----+-------+-------------+--------------+--------------+--------------+-------+--------------------+----------+---------+--------------------+------------------+--------------------+----------+\n",
      "only showing top 5 rows\n",
      "\n"
     ]
    }
   ],
   "source": [
    "predictions.show(5)"
   ]
  },
  {
   "cell_type": "markdown",
   "metadata": {},
   "source": [
    "### Join Data"
   ]
  },
  {
   "cell_type": "code",
   "execution_count": 17,
   "metadata": {},
   "outputs": [
    {
     "name": "stdout",
     "output_type": "stream",
     "text": [
      "root\n",
      " |-- nameOrig: string (nullable = true)\n",
      " |-- nameDest: string (nullable = true)\n",
      " |-- transactionID: string (nullable = true)\n",
      "\n"
     ]
    }
   ],
   "source": [
    "path_to_join_csv = \"gs://datalake-vol2-data/dataset/transaction_data_join.csv\"\n",
    "df_transaction_data_join_from_csv = spark \\\n",
    ".read \\\n",
    ".option(\"inferSchema\" , \"true\") \\\n",
    ".option(\"header\" , \"true\") \\\n",
    ".csv(path_to_join_csv)\n",
    "df_transaction_data_join_from_csv.printSchema()"
   ]
  },
  {
   "cell_type": "code",
   "execution_count": 26,
   "metadata": {},
   "outputs": [],
   "source": [
    "result = predictions.join(df_transaction_data_join_from_csv, \"transactionID\")"
   ]
  },
  {
   "cell_type": "code",
   "execution_count": 27,
   "metadata": {},
   "outputs": [
    {
     "name": "stdout",
     "output_type": "stream",
     "text": [
      "+--------------------+----+--------+---------+-------------+--------------+--------------+--------------+-------+----------+-------------+--------------------+------------------+--------------------+----------+----------+-----------+\n",
      "|       transactionID|step|    type|   amount|oldbalanceOrg|newbalanceOrig|oldbalanceDest|newbalanceDest|isFraud|type_Index|     type_OHE|            features|     rawPrediction|         probability|prediction|  nameOrig|   nameDest|\n",
      "+--------------------+----+--------+---------+-------------+--------------+--------------+--------------+-------+----------+-------------+--------------------+------------------+--------------------+----------+----------+-----------+\n",
      "|000013e5-f6a2-4b9...| 398| PAYMENT| 35466.89|      82453.0|      46986.11|           0.0|           0.0|      0|       1.0|(4,[1],[1.0])|(10,[1,4,5,6,7],[...|[4195304.0,2525.0]|[0.99939849860487...|       0.0|C976174798| M546696585|\n",
      "|00002da3-5819-4ac...| 260| PAYMENT|  3980.21|        908.0|           0.0|           0.0|           0.0|      0|       1.0|(4,[1],[1.0])|(10,[1,4,5,6],[1....|[4195304.0,2525.0]|[0.99939849860487...|       0.0|C753264414| M468209984|\n",
      "|0000688c-d3a4-490...|  33|TRANSFER|767510.27|      35264.0|           0.0|      10657.93|      778168.2|      0|       3.0|(4,[3],[1.0])|[0.0,0.0,0.0,1.0,...|   [362786.0,19.0]|[0.99994763026970...|       0.0|C926232085|C1626519138|\n",
      "|00008512-1aac-49d...|  11| PAYMENT| 10605.34|      51199.0|      40593.66|           0.0|           0.0|      0|       1.0|(4,[1],[1.0])|(10,[1,4,5,6,7],[...|[4195304.0,2525.0]|[0.99939849860487...|       0.0|C986601977|M2028346298|\n",
      "|000104b2-7df9-4e2...| 369| PAYMENT| 39799.95|     330534.0|     290734.05|           0.0|           0.0|      0|       1.0|(4,[1],[1.0])|(10,[1,4,5,6,7],[...|[4195304.0,2525.0]|[0.99939849860487...|       0.0|C173802846| M834370173|\n",
      "+--------------------+----+--------+---------+-------------+--------------+--------------+--------------+-------+----------+-------------+--------------------+------------------+--------------------+----------+----------+-----------+\n",
      "only showing top 5 rows\n",
      "\n"
     ]
    }
   ],
   "source": [
    "result.show(5)"
   ]
  },
  {
   "cell_type": "code",
   "execution_count": 22,
   "metadata": {},
   "outputs": [
    {
     "data": {
      "text/plain": [
       "1271928"
      ]
     },
     "execution_count": 22,
     "metadata": {},
     "output_type": "execute_result"
    }
   ],
   "source": [
    "result.count()"
   ]
  },
  {
   "cell_type": "markdown",
   "metadata": {},
   "source": [
    "### Store result to Enriched Zone"
   ]
  },
  {
   "cell_type": "code",
   "execution_count": 29,
   "metadata": {},
   "outputs": [
    {
     "name": "stdout",
     "output_type": "stream",
     "text": [
      "Table 'datalake-vol2:datalake_vol2_enriched.transaction_analysis_result' successfully created.\n"
     ]
    }
   ],
   "source": [
    "bq_result_table_path = 'datalake-vol2:datalake_vol2_enriched.transaction_analysis_result'\n",
    "schema_inline = result.schema.simpleString().replace('struct<', '').replace('>', '').replace('int', 'int64').replace('bigint64', 'int64').replace('double', 'float64').replace('vector', 'STRING')\n",
    "\n",
    "!bq mk --table \\\n",
    "{bq_result_table_path} \\\n",
    "{schema_inline}"
   ]
  },
  {
   "cell_type": "code",
   "execution_count": 30,
   "metadata": {},
   "outputs": [],
   "source": [
    "result.write \\\n",
    ".format(\"bigquery\") \\\n",
    ".option(\"table\", bq_result_table_path) \\\n",
    ".option(\"temporaryGcsBucket\", \"datalake-vol2-data\") \\\n",
    ".mode('overwrite') \\\n",
    ".save()"
   ]
  },
  {
   "cell_type": "code",
   "execution_count": 31,
   "metadata": {},
   "outputs": [
    {
     "name": "stderr",
     "output_type": "stream",
     "text": [
      "Query complete after 0.00s: 100%|██████████| 1/1 [00:00<00:00, 445.63query/s]                          \n",
      "Downloading: 100%|██████████| 2/2 [00:02<00:00,  1.23s/rows]\n"
     ]
    },
    {
     "data": {
      "text/html": [
       "<div>\n",
       "<style scoped>\n",
       "    .dataframe tbody tr th:only-of-type {\n",
       "        vertical-align: middle;\n",
       "    }\n",
       "\n",
       "    .dataframe tbody tr th {\n",
       "        vertical-align: top;\n",
       "    }\n",
       "\n",
       "    .dataframe thead th {\n",
       "        text-align: right;\n",
       "    }\n",
       "</style>\n",
       "<table border=\"1\" class=\"dataframe\">\n",
       "  <thead>\n",
       "    <tr style=\"text-align: right;\">\n",
       "      <th></th>\n",
       "      <th>table_catalog</th>\n",
       "      <th>table_schema</th>\n",
       "      <th>table_name</th>\n",
       "      <th>table_type</th>\n",
       "      <th>is_insertable_into</th>\n",
       "      <th>is_typed</th>\n",
       "      <th>creation_time</th>\n",
       "    </tr>\n",
       "  </thead>\n",
       "  <tbody>\n",
       "    <tr>\n",
       "      <th>0</th>\n",
       "      <td>datalake-vol2</td>\n",
       "      <td>datalake_vol2_enriched</td>\n",
       "      <td>bank_result</td>\n",
       "      <td>BASE TABLE</td>\n",
       "      <td>YES</td>\n",
       "      <td>NO</td>\n",
       "      <td>2021-01-14 12:51:00.955000+00:00</td>\n",
       "    </tr>\n",
       "    <tr>\n",
       "      <th>1</th>\n",
       "      <td>datalake-vol2</td>\n",
       "      <td>datalake_vol2_enriched</td>\n",
       "      <td>transaction_analysis_result</td>\n",
       "      <td>BASE TABLE</td>\n",
       "      <td>YES</td>\n",
       "      <td>NO</td>\n",
       "      <td>2021-01-27 10:59:46.736000+00:00</td>\n",
       "    </tr>\n",
       "  </tbody>\n",
       "</table>\n",
       "</div>"
      ],
      "text/plain": [
       "   table_catalog            table_schema                   table_name  \\\n",
       "0  datalake-vol2  datalake_vol2_enriched                  bank_result   \n",
       "1  datalake-vol2  datalake_vol2_enriched  transaction_analysis_result   \n",
       "\n",
       "   table_type is_insertable_into is_typed                    creation_time  \n",
       "0  BASE TABLE                YES       NO 2021-01-14 12:51:00.955000+00:00  \n",
       "1  BASE TABLE                YES       NO 2021-01-27 10:59:46.736000+00:00  "
      ]
     },
     "execution_count": 31,
     "metadata": {},
     "output_type": "execute_result"
    }
   ],
   "source": [
    "%%bigquery\n",
    "SELECT * FROM datalake_vol2_enriched.INFORMATION_SCHEMA.TABLES;"
   ]
  },
  {
   "cell_type": "code",
   "execution_count": 33,
   "metadata": {},
   "outputs": [
    {
     "name": "stderr",
     "output_type": "stream",
     "text": [
      "Query complete after 0.00s: 100%|██████████| 2/2 [00:00<00:00, 702.68query/s]                         \n",
      "Downloading: 100%|██████████| 5/5 [00:02<00:00,  2.06rows/s]\n"
     ]
    },
    {
     "data": {
      "text/html": [
       "<div>\n",
       "<style scoped>\n",
       "    .dataframe tbody tr th:only-of-type {\n",
       "        vertical-align: middle;\n",
       "    }\n",
       "\n",
       "    .dataframe tbody tr th {\n",
       "        vertical-align: top;\n",
       "    }\n",
       "\n",
       "    .dataframe thead th {\n",
       "        text-align: right;\n",
       "    }\n",
       "</style>\n",
       "<table border=\"1\" class=\"dataframe\">\n",
       "  <thead>\n",
       "    <tr style=\"text-align: right;\">\n",
       "      <th></th>\n",
       "      <th>transactionID</th>\n",
       "      <th>step</th>\n",
       "      <th>type</th>\n",
       "      <th>amount</th>\n",
       "      <th>oldbalanceOrg</th>\n",
       "      <th>newbalanceOrig</th>\n",
       "      <th>oldbalanceDest</th>\n",
       "      <th>newbalanceDest</th>\n",
       "      <th>isFraud</th>\n",
       "      <th>type_Index</th>\n",
       "      <th>type_OHE</th>\n",
       "      <th>features</th>\n",
       "      <th>rawPrediction</th>\n",
       "      <th>probability</th>\n",
       "      <th>prediction</th>\n",
       "      <th>nameOrig</th>\n",
       "      <th>nameDest</th>\n",
       "    </tr>\n",
       "  </thead>\n",
       "  <tbody>\n",
       "    <tr>\n",
       "      <th>0</th>\n",
       "      <td>00179de5-2372-4ddf-a09f-9e8f8610d0c5</td>\n",
       "      <td>525</td>\n",
       "      <td>DEBIT</td>\n",
       "      <td>1767.85</td>\n",
       "      <td>603.0</td>\n",
       "      <td>0.0</td>\n",
       "      <td>141760.64</td>\n",
       "      <td>143528.49</td>\n",
       "      <td>0</td>\n",
       "      <td>4.0</td>\n",
       "      <td>{'type': 0, 'size': 4, 'indices': {'list': []}...</td>\n",
       "      <td>{'type': 0, 'size': 10, 'indices': {'list': [{...</td>\n",
       "      <td>{'type': 1, 'size': None, 'indices': None, 'va...</td>\n",
       "      <td>{'type': 1, 'size': None, 'indices': None, 'va...</td>\n",
       "      <td>0.0</td>\n",
       "      <td>C855266015</td>\n",
       "      <td>C205529901</td>\n",
       "    </tr>\n",
       "    <tr>\n",
       "      <th>1</th>\n",
       "      <td>007953a2-964e-4b2c-8087-6520bae7c9d6</td>\n",
       "      <td>137</td>\n",
       "      <td>DEBIT</td>\n",
       "      <td>4771.72</td>\n",
       "      <td>0.0</td>\n",
       "      <td>0.0</td>\n",
       "      <td>4441936.36</td>\n",
       "      <td>4446708.08</td>\n",
       "      <td>0</td>\n",
       "      <td>4.0</td>\n",
       "      <td>{'type': 0, 'size': 4, 'indices': {'list': []}...</td>\n",
       "      <td>{'type': 0, 'size': 10, 'indices': {'list': [{...</td>\n",
       "      <td>{'type': 1, 'size': None, 'indices': None, 'va...</td>\n",
       "      <td>{'type': 1, 'size': None, 'indices': None, 'va...</td>\n",
       "      <td>0.0</td>\n",
       "      <td>C437172340</td>\n",
       "      <td>C913843316</td>\n",
       "    </tr>\n",
       "    <tr>\n",
       "      <th>2</th>\n",
       "      <td>01d71f63-9714-4ee1-b7b4-21737d152ebd</td>\n",
       "      <td>181</td>\n",
       "      <td>DEBIT</td>\n",
       "      <td>615.78</td>\n",
       "      <td>0.0</td>\n",
       "      <td>0.0</td>\n",
       "      <td>66308.88</td>\n",
       "      <td>66924.66</td>\n",
       "      <td>0</td>\n",
       "      <td>4.0</td>\n",
       "      <td>{'type': 0, 'size': 4, 'indices': {'list': []}...</td>\n",
       "      <td>{'type': 0, 'size': 10, 'indices': {'list': [{...</td>\n",
       "      <td>{'type': 1, 'size': None, 'indices': None, 'va...</td>\n",
       "      <td>{'type': 1, 'size': None, 'indices': None, 'va...</td>\n",
       "      <td>0.0</td>\n",
       "      <td>C1346040274</td>\n",
       "      <td>C836517205</td>\n",
       "    </tr>\n",
       "    <tr>\n",
       "      <th>3</th>\n",
       "      <td>02350904-81a3-466c-afb7-9eef28a1c618</td>\n",
       "      <td>226</td>\n",
       "      <td>DEBIT</td>\n",
       "      <td>2654.77</td>\n",
       "      <td>0.0</td>\n",
       "      <td>0.0</td>\n",
       "      <td>248858.36</td>\n",
       "      <td>251513.13</td>\n",
       "      <td>0</td>\n",
       "      <td>4.0</td>\n",
       "      <td>{'type': 0, 'size': 4, 'indices': {'list': []}...</td>\n",
       "      <td>{'type': 0, 'size': 10, 'indices': {'list': [{...</td>\n",
       "      <td>{'type': 1, 'size': None, 'indices': None, 'va...</td>\n",
       "      <td>{'type': 1, 'size': None, 'indices': None, 'va...</td>\n",
       "      <td>0.0</td>\n",
       "      <td>C277389310</td>\n",
       "      <td>C69054979</td>\n",
       "    </tr>\n",
       "    <tr>\n",
       "      <th>4</th>\n",
       "      <td>024dea1d-50a1-4533-ae0a-6f693edb5f94</td>\n",
       "      <td>184</td>\n",
       "      <td>DEBIT</td>\n",
       "      <td>22780.00</td>\n",
       "      <td>10314.0</td>\n",
       "      <td>0.0</td>\n",
       "      <td>1947504.62</td>\n",
       "      <td>1970284.62</td>\n",
       "      <td>0</td>\n",
       "      <td>4.0</td>\n",
       "      <td>{'type': 0, 'size': 4, 'indices': {'list': []}...</td>\n",
       "      <td>{'type': 0, 'size': 10, 'indices': {'list': [{...</td>\n",
       "      <td>{'type': 1, 'size': None, 'indices': None, 'va...</td>\n",
       "      <td>{'type': 1, 'size': None, 'indices': None, 'va...</td>\n",
       "      <td>0.0</td>\n",
       "      <td>C2094647121</td>\n",
       "      <td>C1347177629</td>\n",
       "    </tr>\n",
       "  </tbody>\n",
       "</table>\n",
       "</div>"
      ],
      "text/plain": [
       "                          transactionID  step   type    amount  oldbalanceOrg  \\\n",
       "0  00179de5-2372-4ddf-a09f-9e8f8610d0c5   525  DEBIT   1767.85          603.0   \n",
       "1  007953a2-964e-4b2c-8087-6520bae7c9d6   137  DEBIT   4771.72            0.0   \n",
       "2  01d71f63-9714-4ee1-b7b4-21737d152ebd   181  DEBIT    615.78            0.0   \n",
       "3  02350904-81a3-466c-afb7-9eef28a1c618   226  DEBIT   2654.77            0.0   \n",
       "4  024dea1d-50a1-4533-ae0a-6f693edb5f94   184  DEBIT  22780.00        10314.0   \n",
       "\n",
       "   newbalanceOrig  oldbalanceDest  newbalanceDest  isFraud  type_Index  \\\n",
       "0             0.0       141760.64       143528.49        0         4.0   \n",
       "1             0.0      4441936.36      4446708.08        0         4.0   \n",
       "2             0.0        66308.88        66924.66        0         4.0   \n",
       "3             0.0       248858.36       251513.13        0         4.0   \n",
       "4             0.0      1947504.62      1970284.62        0         4.0   \n",
       "\n",
       "                                            type_OHE  \\\n",
       "0  {'type': 0, 'size': 4, 'indices': {'list': []}...   \n",
       "1  {'type': 0, 'size': 4, 'indices': {'list': []}...   \n",
       "2  {'type': 0, 'size': 4, 'indices': {'list': []}...   \n",
       "3  {'type': 0, 'size': 4, 'indices': {'list': []}...   \n",
       "4  {'type': 0, 'size': 4, 'indices': {'list': []}...   \n",
       "\n",
       "                                            features  \\\n",
       "0  {'type': 0, 'size': 10, 'indices': {'list': [{...   \n",
       "1  {'type': 0, 'size': 10, 'indices': {'list': [{...   \n",
       "2  {'type': 0, 'size': 10, 'indices': {'list': [{...   \n",
       "3  {'type': 0, 'size': 10, 'indices': {'list': [{...   \n",
       "4  {'type': 0, 'size': 10, 'indices': {'list': [{...   \n",
       "\n",
       "                                       rawPrediction  \\\n",
       "0  {'type': 1, 'size': None, 'indices': None, 'va...   \n",
       "1  {'type': 1, 'size': None, 'indices': None, 'va...   \n",
       "2  {'type': 1, 'size': None, 'indices': None, 'va...   \n",
       "3  {'type': 1, 'size': None, 'indices': None, 'va...   \n",
       "4  {'type': 1, 'size': None, 'indices': None, 'va...   \n",
       "\n",
       "                                         probability  prediction     nameOrig  \\\n",
       "0  {'type': 1, 'size': None, 'indices': None, 'va...         0.0   C855266015   \n",
       "1  {'type': 1, 'size': None, 'indices': None, 'va...         0.0   C437172340   \n",
       "2  {'type': 1, 'size': None, 'indices': None, 'va...         0.0  C1346040274   \n",
       "3  {'type': 1, 'size': None, 'indices': None, 'va...         0.0   C277389310   \n",
       "4  {'type': 1, 'size': None, 'indices': None, 'va...         0.0  C2094647121   \n",
       "\n",
       "      nameDest  \n",
       "0   C205529901  \n",
       "1   C913843316  \n",
       "2   C836517205  \n",
       "3    C69054979  \n",
       "4  C1347177629  "
      ]
     },
     "execution_count": 33,
     "metadata": {},
     "output_type": "execute_result"
    }
   ],
   "source": [
    "%%bigquery \n",
    "SELECT * FROM `datalake-vol2.datalake_vol2_enriched.transaction_analysis_result`\n",
    "LIMIT 5"
   ]
  }
 ],
 "metadata": {
  "colab": {
   "name": "test-1.ipynb",
   "provenance": []
  },
  "kernelspec": {
   "display_name": "PySpark",
   "language": "python",
   "name": "pyspark"
  },
  "language_info": {
   "codemirror_mode": {
    "name": "ipython",
    "version": 3
   },
   "file_extension": ".py",
   "mimetype": "text/x-python",
   "name": "python",
   "nbconvert_exporter": "python",
   "pygments_lexer": "ipython3",
   "version": "3.8.6"
  }
 },
 "nbformat": 4,
 "nbformat_minor": 4
}
